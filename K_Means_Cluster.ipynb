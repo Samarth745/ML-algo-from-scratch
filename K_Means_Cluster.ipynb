{
  "nbformat": 4,
  "nbformat_minor": 0,
  "metadata": {
    "colab": {
      "provenance": [],
      "authorship_tag": "ABX9TyPmrPETmJZ/JSJzA81yGxFV",
      "include_colab_link": true
    },
    "kernelspec": {
      "name": "python3",
      "display_name": "Python 3"
    },
    "language_info": {
      "name": "python"
    }
  },
  "cells": [
    {
      "cell_type": "markdown",
      "metadata": {
        "id": "view-in-github",
        "colab_type": "text"
      },
      "source": [
        "<a href=\"https://colab.research.google.com/github/Samarth745/ML-algo-from-scratch/blob/main/K_Means_Cluster.ipynb\" target=\"_parent\"><img src=\"https://colab.research.google.com/assets/colab-badge.svg\" alt=\"Open In Colab\"/></a>"
      ]
    },
    {
      "cell_type": "markdown",
      "source": [
        "# K-Means Clustering Algorithm\n",
        "\n",
        "## Overview\n",
        "K-Means is a popular **unsupervised learning** algorithm used for clustering data into distinct groups. The goal is to partition the data into `k` clusters, where each data point belongs to the cluster with the nearest mean (centroid).\n",
        "\n",
        "It works by iteratively updating the centroids (mean points of each cluster) and reassigning data points to the closest centroid until convergence.\n",
        "\n",
        "\n",
        "## How K-Means Works\n",
        "\n",
        "1. **Random Initialization**:\n",
        "   - Initially, the algorithm selects `k` random points from the dataset as centroids.\n",
        "   \n",
        "2. **Cluster Assignment**:\n",
        "   - For each point in the dataset, the distance to all centroids is calculated (usually Euclidean distance).\n",
        "   - Each point is assigned to the cluster of the nearest centroid.\n",
        "\n",
        "3. **Update Centroids**:\n",
        "   - After assignment, the centroids are updated by computing the mean of all points assigned to each cluster.\n",
        "   - The new centroids will become the average position of the assigned points.\n",
        "\n",
        "4. **Convergence**:\n",
        "   - The algorithm stops when the centroids do not move significantly (i.e., change in centroids is less than a predefined tolerance) or after a fixed number of iterations.\n",
        "\n",
        "## Mathematical Representation\n",
        "\n",
        "### Distance Calculation\n",
        "The Euclidean distance between a point $ x $ and a centroid $ c $ is given by:\n",
        "$\n",
        "\\text{Distance}(x, c) = \\sqrt{\\sum_{i=1}^{n} (x_i - c_i)^2}\n",
        "$\n",
        "\n",
        "Where:\n",
        "- $ x $ is the data point.\n",
        "- $ c $ is the centroid.\n",
        "- $ n $ is the number of features.\n",
        "\n",
        "### Objective Function (Inertia)\n",
        "K-Means minimizes the **within-cluster variance**, known as inertia:\n",
        "\n",
        "$\n",
        "\\text{Inertia} = \\sum_{i=1}^{k} \\sum_{x \\in C_i} \\|x - \\mu_i\\|^2\n",
        "$\n",
        "\n",
        "Where:\n",
        "- $ k $ is the number of clusters.\n",
        "- $ C_i $ is the set of points assigned to the $ i $-th cluster.\n",
        "- $ \\mu_i $ is the centroid of the $ i $-th cluster.\n",
        "\n"
      ],
      "metadata": {
        "id": "iLnzhRCsjF2t"
      }
    },
    {
      "cell_type": "code",
      "execution_count": 1,
      "metadata": {
        "id": "FX2JkMCrhhX8"
      },
      "outputs": [],
      "source": [
        "# data manipulation\n",
        "import numpy as np\n",
        "import pandas as pd\n",
        "\n",
        "# visualization\n",
        "import matplotlib.pyplot as plt\n",
        "\n",
        "# dataset\n",
        "from sklearn.datasets import make_blobs\n",
        "from sklearn.model_selection import train_test_split\n",
        "\n",
        "# pre=processing\n",
        "from sklearn.preprocessing import StandardScaler"
      ]
    },
    {
      "cell_type": "code",
      "source": [
        "\n",
        "X, y = make_blobs(n_samples=500,\n",
        "                  n_features=2,\n",
        "                  centers=4,\n",
        "                  cluster_std=1.0,\n",
        "                  center_box=(-10.0, 10.0),\n",
        "                  shuffle=True,\n",
        "                  random_state=1)"
      ],
      "metadata": {
        "id": "QsME1NuDlPt2"
      },
      "execution_count": 2,
      "outputs": []
    },
    {
      "cell_type": "code",
      "source": [
        "class KMeansClustering:\n",
        "\n",
        "\n",
        "  def __init__(self, num_of_clusters, total_iterations, tol):\n",
        "    self.num_of_clusters = num_of_clusters\n",
        "    self.total_iterations = total_iterations\n",
        "    self.tol = tol\n",
        "\n",
        "  def fit(self, X):\n",
        "    num_of_rows = X.shape[0]\n",
        "    num_of_features = X.shape[1]\n",
        "    self.centroids = X[np.random.choice(X.shape[0], size=self.num_of_clusters, replace=False)]  # Initial random centroids\n",
        "    all_inertia = []\n",
        "    inertia_ = np.inf\n",
        "    labels_ = None\n",
        "\n",
        "    for i in range(self.total_iterations):\n",
        "        inertia = 0  # Reset inertia for each iteration\n",
        "        labels = np.empty(num_of_rows, dtype=int)  # Initialize empty label array\n",
        "\n",
        "        # Step 1: Assign points to the nearest centroid\n",
        "        for index, x in enumerate(X):\n",
        "            # Calculate Euclidean distance to each centroid\n",
        "            distances = np.linalg.norm(x - self.centroids, axis=1)\n",
        "            labels[index] = np.argmin(distances)  # Assign point to the closest centroid\n",
        "            inertia += np.min(distances)  # Sum of the minimum distances (for inertia calculation)\n",
        "\n",
        "        inertia /= num_of_rows  # Average inertia\n",
        "\n",
        "        ## Check for convergence criteria\n",
        "        if np.abs(inertia_ - inertia) <= self.tol:\n",
        "            print(f\"> The algorithm converged in {i} iterations\")\n",
        "            labels_ = labels\n",
        "            break\n",
        "        ## Update Labels and inertia\n",
        "        labels_ = labels\n",
        "        inertia_ = inertia\n",
        "        all_inertia.append(inertia_)\n",
        "\n",
        "        ## Update Centroid\n",
        "        for label in np.unique(labels_):\n",
        "            points_in_cluster = X[labels == label]  # Get all points assigned to the current cluster\n",
        "            self.centroids[label] = np.mean(points_in_cluster, axis=0)  # Calculate mean for new centroid\n",
        "\n",
        "\n",
        "\n",
        "  def predict(self, X):\n",
        "    labels = np.empty(X.shape[0])\n",
        "    for index, x in enumerate(X):\n",
        "      # Calculate Euclidean distance to each centroid\n",
        "      distances = np.linalg.norm(x - self.centroids, axis=1)\n",
        "      labels[index] = np.argmin(distances)\n",
        "    return labels\n",
        "\n"
      ],
      "metadata": {
        "id": "0rZDwkgO1vbc"
      },
      "execution_count": 57,
      "outputs": []
    },
    {
      "cell_type": "code",
      "source": [
        "cl = KMeansClustering(num_of_clusters=5, total_iterations=100, tol=1e-5)\n",
        "cl.fit(X)\n",
        "cl.predict(X)"
      ],
      "metadata": {
        "colab": {
          "base_uri": "https://localhost:8080/"
        },
        "id": "QjCVuKxw4Pxo",
        "outputId": "3195633b-39ed-4f53-eca5-e34b2b77621f"
      },
      "execution_count": 58,
      "outputs": [
        {
          "output_type": "stream",
          "name": "stdout",
          "text": [
            "> The algorithm converged in 5 iterations\n"
          ]
        },
        {
          "output_type": "execute_result",
          "data": {
            "text/plain": [
              "array([3., 3., 4., 0., 1., 0., 1., 1., 1., 1., 2., 2., 1., 0., 1., 2., 1.,\n",
              "       3., 0., 1., 4., 4., 1., 0., 1., 1., 0., 0., 4., 1., 2., 0., 1., 2.,\n",
              "       1., 2., 4., 4., 2., 4., 1., 4., 0., 1., 1., 2., 4., 1., 0., 0., 0.,\n",
              "       4., 4., 1., 2., 4., 4., 4., 4., 1., 0., 0., 4., 1., 0., 1., 3., 1.,\n",
              "       4., 4., 2., 4., 1., 3., 1., 1., 3., 1., 1., 4., 0., 0., 4., 0., 0.,\n",
              "       4., 4., 0., 4., 4., 0., 3., 4., 1., 0., 2., 3., 1., 3., 0., 0., 3.,\n",
              "       0., 4., 0., 1., 1., 0., 0., 4., 1., 2., 0., 4., 0., 4., 0., 1., 0.,\n",
              "       1., 4., 2., 3., 4., 1., 4., 0., 3., 3., 1., 0., 4., 4., 4., 4., 2.,\n",
              "       0., 1., 0., 0., 1., 3., 1., 0., 0., 0., 1., 1., 2., 3., 4., 4., 0.,\n",
              "       2., 0., 4., 4., 4., 4., 4., 4., 4., 4., 4., 0., 2., 2., 3., 1., 0.,\n",
              "       3., 4., 1., 3., 0., 4., 4., 4., 4., 3., 1., 4., 0., 3., 2., 4., 1.,\n",
              "       2., 3., 1., 0., 0., 2., 3., 1., 0., 1., 2., 3., 0., 2., 4., 0., 1.,\n",
              "       1., 2., 1., 4., 2., 1., 4., 1., 4., 3., 1., 1., 1., 0., 4., 0., 1.,\n",
              "       2., 4., 1., 4., 4., 4., 0., 4., 0., 2., 4., 2., 4., 0., 0., 4., 2.,\n",
              "       0., 2., 1., 4., 3., 3., 3., 2., 1., 4., 2., 4., 1., 0., 0., 1., 1.,\n",
              "       0., 4., 1., 4., 0., 1., 0., 4., 4., 0., 1., 2., 3., 4., 4., 4., 1.,\n",
              "       0., 0., 1., 0., 4., 2., 0., 2., 0., 2., 3., 0., 3., 0., 0., 1., 4.,\n",
              "       4., 4., 1., 1., 4., 2., 0., 2., 3., 3., 1., 4., 1., 2., 4., 3., 3.,\n",
              "       4., 3., 2., 4., 0., 3., 1., 1., 0., 0., 4., 3., 0., 0., 1., 2., 0.,\n",
              "       0., 1., 4., 0., 4., 1., 3., 3., 0., 4., 2., 1., 0., 0., 1., 1., 1.,\n",
              "       2., 1., 0., 0., 4., 0., 0., 0., 0., 2., 2., 1., 0., 4., 1., 2., 0.,\n",
              "       4., 0., 1., 0., 4., 1., 4., 0., 1., 1., 3., 0., 2., 3., 2., 3., 2.,\n",
              "       2., 4., 3., 0., 2., 0., 0., 4., 0., 1., 4., 4., 2., 0., 4., 0., 1.,\n",
              "       3., 4., 4., 2., 4., 4., 0., 0., 3., 4., 1., 0., 1., 1., 2., 2., 1.,\n",
              "       3., 4., 4., 2., 4., 3., 4., 0., 2., 0., 4., 1., 0., 4., 1., 0., 3.,\n",
              "       1., 0., 0., 4., 1., 4., 1., 2., 0., 2., 1., 0., 3., 3., 3., 4., 0.,\n",
              "       2., 2., 1., 1., 4., 4., 2., 1., 1., 1., 1., 1., 1., 3., 1., 4., 2.,\n",
              "       1., 0., 1., 0., 1., 4., 4., 0., 0., 0., 4., 1., 4., 2., 4., 0., 1.,\n",
              "       3., 0., 3., 0., 3., 1., 0., 0., 2., 4., 1., 2., 4., 4., 4., 3., 1.,\n",
              "       0., 4., 1., 2., 3., 3., 1.])"
            ]
          },
          "metadata": {},
          "execution_count": 58
        }
      ]
    },
    {
      "cell_type": "code",
      "source": [
        "from sklearn.cluster import KMeans\n",
        "cl = KMeans(n_clusters = 5, max_iter=100)\n",
        "cl.fit(X)\n",
        "cl.predict(X)"
      ],
      "metadata": {
        "colab": {
          "base_uri": "https://localhost:8080/"
        },
        "id": "4aLwsHowukct",
        "outputId": "d05b0362-2e56-4dce-eb16-df503f38ca2f"
      },
      "execution_count": 36,
      "outputs": [
        {
          "output_type": "execute_result",
          "data": {
            "text/plain": [
              "array([3, 3, 4, 0, 2, 0, 2, 2, 1, 1, 3, 3, 2, 0, 2, 3, 1, 3, 0, 1, 4, 4,\n",
              "       1, 0, 2, 1, 0, 0, 4, 1, 3, 0, 2, 3, 2, 3, 4, 4, 3, 4, 2, 4, 0, 2,\n",
              "       1, 3, 4, 1, 0, 0, 0, 4, 4, 1, 3, 4, 4, 4, 4, 2, 0, 0, 4, 1, 0, 2,\n",
              "       3, 2, 4, 4, 3, 4, 2, 3, 1, 1, 3, 1, 2, 4, 0, 0, 4, 0, 0, 4, 1, 0,\n",
              "       4, 4, 0, 3, 4, 1, 0, 3, 3, 2, 3, 0, 0, 3, 0, 4, 0, 1, 1, 0, 0, 4,\n",
              "       2, 3, 0, 4, 0, 4, 0, 1, 0, 1, 4, 3, 3, 4, 1, 4, 0, 3, 3, 2, 0, 4,\n",
              "       4, 4, 4, 3, 0, 1, 0, 0, 2, 3, 2, 0, 0, 0, 2, 2, 3, 3, 4, 4, 0, 3,\n",
              "       0, 4, 4, 4, 4, 4, 4, 4, 4, 4, 0, 3, 3, 3, 1, 0, 3, 4, 2, 3, 0, 4,\n",
              "       4, 4, 4, 3, 1, 4, 0, 3, 3, 4, 1, 3, 3, 1, 0, 0, 3, 3, 1, 0, 2, 3,\n",
              "       3, 0, 3, 4, 0, 1, 2, 3, 2, 4, 3, 1, 4, 1, 4, 3, 2, 1, 2, 0, 4, 0,\n",
              "       1, 3, 4, 1, 4, 4, 4, 0, 4, 0, 3, 4, 3, 4, 0, 0, 4, 3, 0, 3, 1, 4,\n",
              "       3, 3, 3, 3, 1, 4, 3, 4, 2, 0, 0, 2, 2, 0, 4, 1, 4, 0, 1, 0, 4, 4,\n",
              "       0, 2, 3, 3, 4, 4, 4, 1, 0, 0, 2, 0, 4, 3, 0, 3, 0, 3, 3, 0, 3, 0,\n",
              "       0, 1, 4, 4, 4, 2, 2, 4, 3, 0, 3, 3, 3, 2, 4, 2, 3, 4, 3, 3, 4, 3,\n",
              "       3, 4, 0, 3, 1, 2, 0, 0, 4, 3, 0, 0, 2, 3, 0, 0, 1, 4, 0, 4, 1, 3,\n",
              "       3, 0, 4, 3, 1, 0, 0, 1, 1, 2, 3, 1, 0, 0, 4, 0, 0, 0, 0, 3, 3, 1,\n",
              "       0, 4, 2, 3, 0, 4, 0, 2, 0, 4, 1, 4, 0, 2, 1, 3, 0, 3, 3, 3, 3, 3,\n",
              "       3, 4, 3, 0, 3, 0, 0, 4, 0, 1, 4, 4, 3, 0, 1, 0, 1, 3, 4, 4, 3, 4,\n",
              "       4, 0, 0, 3, 4, 2, 0, 2, 2, 3, 3, 2, 3, 4, 4, 3, 4, 3, 4, 0, 3, 0,\n",
              "       4, 1, 0, 4, 1, 0, 3, 1, 0, 0, 4, 2, 4, 2, 3, 0, 3, 2, 0, 3, 3, 3,\n",
              "       4, 0, 1, 3, 2, 1, 4, 4, 3, 1, 2, 1, 2, 1, 2, 3, 2, 4, 3, 2, 0, 1,\n",
              "       0, 1, 4, 4, 0, 0, 0, 4, 2, 4, 3, 4, 0, 2, 3, 0, 3, 0, 3, 1, 0, 0,\n",
              "       3, 4, 1, 3, 4, 4, 4, 3, 1, 0, 4, 2, 3, 3, 3, 2], dtype=int32)"
            ]
          },
          "metadata": {},
          "execution_count": 36
        }
      ]
    },
    {
      "cell_type": "code",
      "source": [],
      "metadata": {
        "id": "KDaYAjt8zlqm"
      },
      "execution_count": 33,
      "outputs": []
    },
    {
      "cell_type": "code",
      "source": [],
      "metadata": {
        "id": "OLFkWEsg0GIw"
      },
      "execution_count": null,
      "outputs": []
    }
  ]
}