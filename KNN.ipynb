{
  "nbformat": 4,
  "nbformat_minor": 0,
  "metadata": {
    "colab": {
      "provenance": [],
      "authorship_tag": "ABX9TyMr4lw8sdFirKrqAl7HQKFp",
      "include_colab_link": true
    },
    "kernelspec": {
      "name": "python3",
      "display_name": "Python 3"
    },
    "language_info": {
      "name": "python"
    }
  },
  "cells": [
    {
      "cell_type": "markdown",
      "metadata": {
        "id": "view-in-github",
        "colab_type": "text"
      },
      "source": [
        "<a href=\"https://colab.research.google.com/github/Samarth745/ML-algo-from-scratch/blob/main/KNN.ipynb\" target=\"_parent\"><img src=\"https://colab.research.google.com/assets/colab-badge.svg\" alt=\"Open In Colab\"/></a>"
      ]
    },
    {
      "cell_type": "code",
      "source": [
        "import numpy as np\n",
        "import pandas as pd\n",
        "\n",
        "# preprocessing\n",
        "from sklearn.preprocessing import StandardScaler\n",
        "\n",
        "# mathematics\n",
        "import statistics\n",
        "\n",
        "# dataset\n",
        "from sklearn.datasets import load_iris\n",
        "from sklearn.model_selection import train_test_split"
      ],
      "metadata": {
        "id": "KPDkI7msmAZJ"
      },
      "execution_count": 2,
      "outputs": []
    },
    {
      "cell_type": "code",
      "execution_count": 3,
      "metadata": {
        "id": "ROsd7GoHlOW5"
      },
      "outputs": [],
      "source": [
        "\n",
        "class KNNClassifier:\n",
        "\n",
        "  def __init__(self, n_neighbours=5):\n",
        "    self.n_neighbours = n_neighbours\n",
        "\n",
        "  def fit(self, X, y):\n",
        "    self.X_ = X\n",
        "    self.y_ = y\n",
        "    return self\n",
        "\n",
        "\n",
        "  def predict(self, X):\n",
        "    result = np.empty(X.shape[0], dtype=int)\n",
        "    for i, x in enumerate(X):\n",
        "      distances = [np.sqrt(np.sum((x - x1) ** 2)) for x1 in self.X_]\n",
        "      neighbours = np.argsort(distances)[:self.n_neighbours]\n",
        "      labels = self.y_[neighbours]\n",
        "      result[i] = statistics.mode(labels)\n",
        "    return result\n"
      ]
    },
    {
      "cell_type": "code",
      "source": [
        "X, y = load_iris(return_X_y=True)\n",
        "\n",
        "X_train, X_test, y_train, y_test = train_test_split(X,\n",
        "                                                    y,\n",
        "                                                    test_size=0.2,\n",
        "                                                    stratify=y,\n",
        "                                                    random_state=7)\n",
        "\n",
        "print(X_train.shape, y_train.shape)\n",
        "print(X_test.shape, y_test.shape)"
      ],
      "metadata": {
        "colab": {
          "base_uri": "https://localhost:8080/"
        },
        "id": "y4SlollMl2vc",
        "outputId": "2876fe90-5eee-40d9-d5c5-f790c9b43c9d"
      },
      "execution_count": 4,
      "outputs": [
        {
          "output_type": "stream",
          "name": "stdout",
          "text": [
            "(120, 4) (120,)\n",
            "(30, 4) (30,)\n"
          ]
        }
      ]
    },
    {
      "cell_type": "code",
      "source": [
        "knn = KNNClassifier(n_neighbours=5)\n",
        "knn.fit(X_train, y_train)\n",
        "knn.predict(X_test)"
      ],
      "metadata": {
        "colab": {
          "base_uri": "https://localhost:8080/"
        },
        "id": "GGK8Tu-zl3ZY",
        "outputId": "af87a7e0-13c7-48d9-be39-1920fd1d0f6a"
      },
      "execution_count": 7,
      "outputs": [
        {
          "output_type": "execute_result",
          "data": {
            "text/plain": [
              "array([2, 0, 0, 1, 2, 1, 2, 0, 2, 2, 1, 0, 0, 1, 1, 1, 0, 0, 1, 1, 2, 0,\n",
              "       1, 0, 2, 2, 2, 1, 0, 2])"
            ]
          },
          "metadata": {},
          "execution_count": 7
        }
      ]
    },
    {
      "cell_type": "code",
      "source": [
        "from sklearn.neighbors import KNeighborsClassifier\n",
        "knn = KNeighborsClassifier()\n",
        "knn.fit(X_train, y_train)\n",
        "knn.predict(X_test)"
      ],
      "metadata": {
        "colab": {
          "base_uri": "https://localhost:8080/"
        },
        "id": "oDdsyb1ymDUZ",
        "outputId": "f1945dc3-72f5-45a9-f94a-c51c6a60e6b5"
      },
      "execution_count": 9,
      "outputs": [
        {
          "output_type": "execute_result",
          "data": {
            "text/plain": [
              "array([2, 0, 0, 1, 2, 1, 2, 0, 2, 2, 1, 0, 0, 1, 1, 1, 0, 0, 1, 1, 2, 0,\n",
              "       1, 0, 2, 2, 2, 1, 0, 2])"
            ]
          },
          "metadata": {},
          "execution_count": 9
        }
      ]
    },
    {
      "cell_type": "code",
      "source": [],
      "metadata": {
        "id": "P-aO63gDmT_c"
      },
      "execution_count": null,
      "outputs": []
    }
  ]
}